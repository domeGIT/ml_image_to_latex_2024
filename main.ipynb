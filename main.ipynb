{
 "cells": [
  {
   "cell_type": "code",
   "execution_count": 45,
   "id": "d6c331f5",
   "metadata": {},
   "outputs": [],
   "source": [
    "import torch\n",
    "from torch.utils.data import Dataset, DataLoader\n",
    "from torchvision import transforms\n",
    "import torchvision\n",
    "\n",
    "import matplotlib.pyplot as plt\n",
    "import pandas as pd\n",
    "\n",
    "from PIL import Image, ImageOps\n",
    "import os\n",
    "import random"
   ]
  },
  {
   "cell_type": "markdown",
   "id": "5300f7b2",
   "metadata": {},
   "source": [
    "parametri/config:"
   ]
  },
  {
   "cell_type": "code",
   "execution_count": 46,
   "id": "18c4e335",
   "metadata": {},
   "outputs": [],
   "source": [
    "data_path = \"data\"\n",
    "\n",
    "RANDOM_STATE = 1219\n",
    "N_EPOCHS = 50\n",
    "BATCH_SIZE = 1024\n",
    "LEARNING_RATE = 0.1\n",
    "WORKERS = 0"
   ]
  },
  {
   "cell_type": "markdown",
   "id": "120d8d3a",
   "metadata": {},
   "source": [
    "definisanje fja za premestanje na gpu, ako je dostupan:"
   ]
  },
  {
   "cell_type": "code",
   "execution_count": 47,
   "id": "f6d77ed4",
   "metadata": {},
   "outputs": [],
   "source": [
    "def get_device():\n",
    "  return torch.device(\"cuda\" if torch.cuda.is_available() else \"cpu\")\n",
    "\n",
    "def bind_gpu(data):\n",
    "  device = get_device()\n",
    "  if isinstance(data, (list, tuple)):\n",
    "    return [bind_gpu(data_elem) for data_elem in data]\n",
    "  else:\n",
    "    return data.to(device, non_blocking=True)"
   ]
  },
  {
   "cell_type": "markdown",
   "id": "30ecfcd9",
   "metadata": {},
   "source": [
    "dataset klasa:"
   ]
  },
  {
   "cell_type": "code",
   "execution_count": null,
   "id": "5faa108a",
   "metadata": {},
   "outputs": [],
   "source": [
    "class LatexDataset(Dataset):\n",
    "    \"\"\"\n",
    "    Dataset for image-to-LaTeX project.\n",
    "    Each item is (image_tensor, formula_string)\n",
    "    \"\"\"\n",
    "    def __init__(self, data_type: str, transform=None):\n",
    "        super().__init__()\n",
    "        assert data_type in ['train', 'test', 'validate', 'testtest'], 'Not found data type'\n",
    "        self.transform = transform\n",
    "\n",
    "        csv_path = os.path.join(data_path, f'im2latex_{data_type}.csv')\n",
    "        df = pd.read_csv(csv_path)\n",
    "        # promenimo kolonu image tako da ima ceo put do fajla\n",
    "        df['image'] = df.image.map(lambda x: os.path.join(os.path.join(\"data\", \"formula_images_processed\"), f'{x}'))\n",
    "        # TODO: pojasni si sta je tacno walker\n",
    "        self.walker = df.to_dict('records')\n",
    "    \n",
    "    def __len__(self):\n",
    "        return len(self.walker)\n",
    "    \n",
    "    def __getitem__(self, idx):\n",
    "        item = self.walker[idx]\n",
    "        \n",
    "        formula = item['formula']\n",
    "        image = torchvision.io.read_image(str(item['image']))\n",
    "        \n",
    "        return image, formula"
   ]
  },
  {
   "cell_type": "code",
   "execution_count": 49,
   "id": "dc4ebbd7",
   "metadata": {},
   "outputs": [
    {
     "data": {
      "text/plain": [
       "(75275, 8370, 10355)"
      ]
     },
     "execution_count": 49,
     "metadata": {},
     "output_type": "execute_result"
    }
   ],
   "source": [
    "\n",
    "train_set = LatexDataset('train')\n",
    "val_set = LatexDataset('validate')\n",
    "test_set = LatexDataset('test')\n",
    "test_test = LatexDataset('testtest')\n",
    "\n",
    "len(train_set), len(val_set), len(test_set)"
   ]
  },
  {
   "cell_type": "code",
   "execution_count": 50,
   "id": "61cd0e05",
   "metadata": {},
   "outputs": [
    {
     "name": "stderr",
     "output_type": "stream",
     "text": [
      "<>:14: SyntaxWarning: invalid escape sequence '\\['\n",
      "<>:14: SyntaxWarning: invalid escape sequence '\\w'\n",
      "<>:14: SyntaxWarning: invalid escape sequence '\\['\n",
      "<>:14: SyntaxWarning: invalid escape sequence '\\w'\n",
      "C:\\Users\\zjaks\\AppData\\Local\\Temp\\ipykernel_21132\\2670044509.py:14: SyntaxWarning: invalid escape sequence '\\['\n",
      "  \"(\\\\\\\\[a-zA-Z]+)|\" + '((\\\\\\\\)*[$-/:-?{-~!\"^_`\\[\\]])|' + \"(\\w)|\" + \"(\\\\\\\\)\"\n",
      "C:\\Users\\zjaks\\AppData\\Local\\Temp\\ipykernel_21132\\2670044509.py:14: SyntaxWarning: invalid escape sequence '\\w'\n",
      "  \"(\\\\\\\\[a-zA-Z]+)|\" + '((\\\\\\\\)*[$-/:-?{-~!\"^_`\\[\\]])|' + \"(\\w)|\" + \"(\\\\\\\\)\"\n"
     ]
    }
   ],
   "source": [
    "import re\n",
    "import json\n",
    "from torch import Tensor\n",
    "\n",
    "class Text():\n",
    "    def __init__(self):\n",
    "        self.pad_id = 0\n",
    "        self.sos_id = 1\n",
    "        self.eos_id = 2\n",
    "        \n",
    "        self.id2word = json.load(open(\"data/vocab/100k_vocab.json\", \"r\"))\n",
    "        self.word2id = dict(zip(self.id2word, range(len(self.id2word))))\n",
    "        self.TOKENIZE_PATTERN = re.compile(\n",
    "            \"(\\\\\\\\[a-zA-Z]+)|\" + '((\\\\\\\\)*[$-/:-?{-~!\"^_`\\[\\]])|' + \"(\\w)|\" + \"(\\\\\\\\)\"\n",
    "        )\n",
    "        self.n_class = len(self.id2word)\n",
    "\n",
    "    def int2text(self, x: Tensor):\n",
    "        return \" \".join([self.id2word[i] for i in x if i > self.eos_id])\n",
    "\n",
    "    def text2int(self, formula: str):\n",
    "        return torch.LongTensor([self.word2id[i] for i in self.tokenize(formula)])\n",
    "\n",
    "    def tokenize(self, formula: str):\n",
    "        tokens = re.finditer(self.TOKENIZE_PATTERN, formula)\n",
    "        tokens = list(map(lambda x: x.group(0), tokens))\n",
    "        tokens = [x for x in tokens if x is not None and x != \"\"]\n",
    "        return tokens"
   ]
  },
  {
   "cell_type": "markdown",
   "id": "3b24edc7",
   "metadata": {},
   "source": [
    "data module:"
   ]
  },
  {
   "cell_type": "code",
   "execution_count": 51,
   "id": "24d74f13",
   "metadata": {},
   "outputs": [],
   "source": [
    "from torch.nn.utils.rnn import pad_sequence, pad_packed_sequence\n",
    "\n",
    "text = Text()\n",
    "\n",
    "def collate_fn(batch, text):\n",
    "    formulas = [text.text2int(i[1]) for i in batch]\n",
    "    formulas = pad_sequence(formulas, batch_first=True)\n",
    "    sos = torch.zeros(BATCH_SIZE, 1) + text.sos_id\n",
    "    eos = torch.zeros(BATCH_SIZE, 1) + text.eos_id\n",
    "    formulas = torch.cat((sos, formulas, eos), dim=-1).to(dtype=torch.long)\n",
    "    image = [i[0] for i in batch]\n",
    "    max_width, max_height = 0, 0\n",
    "    for img in image:\n",
    "        c, h, w = img.size()\n",
    "        max_width = max(max_width, w)\n",
    "        max_height = max(max_height, h)\n",
    "    pad = torchvision.transforms.Resize(size=(max_height, max_width))\n",
    "    image = torch.stack(list(map(lambda x: pad(x), image))).to(dtype=torch.float)\n",
    "    return image, formulas\n"
   ]
  },
  {
   "cell_type": "code",
   "execution_count": 52,
   "id": "56daed87",
   "metadata": {},
   "outputs": [],
   "source": [
    "test_test_loader = DataLoader(test_test, batch_size=BATCH_SIZE, shuffle=True, num_workers=WORKERS, collate_fn=lambda batch: collate_fn(batch, text))"
   ]
  },
  {
   "cell_type": "markdown",
   "id": "3b445eb7",
   "metadata": {},
   "source": [
    "primer:"
   ]
  },
  {
   "cell_type": "code",
   "execution_count": 53,
   "id": "eaab48c5",
   "metadata": {},
   "outputs": [
    {
     "name": "stdout",
     "output_type": "stream",
     "text": [
      "torch.Size([1024, 3, 160, 480])\n",
      "torch.Size([1024, 193])\n"
     ]
    }
   ],
   "source": [
    "for images, formulas in test_test_loader:\n",
    "    print(images.shape)      # [32, 3, H, W]\n",
    "    print(formulas.shape)    # [32, max_formula_len+2]\n",
    "    break"
   ]
  },
  {
   "cell_type": "markdown",
   "id": "ca9de70a",
   "metadata": {},
   "source": [
    "### Enkoder\n",
    "* input je slika s 3 kanala (RGB)\n",
    "* output feature map ima `enc_dim` kanala\n",
    "* `nn.MaxPool2d(2, 1)`  -> asimetricni pooling: praktikuje se za slike teksta, jer je tekst vise sirok nego visok\n",
    "\n",
    "##### Forward pass\n",
    "input tenzor za forward pass: `x: (bs, c, w, h)`\n",
    "\n",
    "`bc = batch size`\n",
    "\n",
    "`c = number of channels`\n",
    "\n",
    "`w = image width`\n",
    "\n",
    "`h = image height`\n",
    "\n",
    "1. enkodovati `x(bc, c_in, w_in, h_in) -> (bc, c_out, w_out, h_out) `\n",
    "    *  `c_out` je `enc_dim`\n",
    "    * `w_out` i `h_out` manji od dimenzija inputa (ofc, conv mreza)\n",
    "2. permutovati -> da bi feature vector bio poslednji\n",
    "3. flattenovati\n",
    "* `encoder_out.shape = (bs, sequence_length = w_out * h_out, d = enc_dim)`"
   ]
  },
  {
   "cell_type": "code",
   "execution_count": 54,
   "id": "010181d2",
   "metadata": {},
   "outputs": [],
   "source": [
    "from torch import nn, Tensor\n",
    "\n",
    "class ConvEncoder(nn.Module):\n",
    "    def __init__(self, enc_dim: int):\n",
    "        super().__init__()\n",
    "        self.feature_encoder = nn.Sequential(\n",
    "            nn.Conv2d(3, 64, 3, 1),\n",
    "            nn.Conv2d(64, 128, 3, 1),\n",
    "            nn.Conv2d(128, 256, 3, 1),\n",
    "            nn.Conv2d(256, 256, 3, 1),\n",
    "            nn.MaxPool2d(2, 1),\n",
    "            nn.Conv2d(256, 512, 3, 1),\n",
    "            nn.MaxPool2d(1, 2),\n",
    "            nn.Conv2d(512, enc_dim, 3, 1),\n",
    "        )\n",
    "        self.enc_dim = enc_dim\n",
    "\n",
    "    def forward(self, x: Tensor):\n",
    "        \"\"\"\n",
    "            x: (bs, c, w, h)\n",
    "        \"\"\"\n",
    "        encoder_out = self.feature_encoder(x)  # (bs, c, w, h)\n",
    "        encoder_out = encoder_out.permute(0, 2, 3, 1)  # (bs, w, h, c)\n",
    "        bs, _, _, d = encoder_out.size()\n",
    "        encoder_out = encoder_out.view(bs, -1, d)\n",
    "        return encoder_out"
   ]
  }
 ],
 "metadata": {
  "kernelspec": {
   "display_name": ".venv",
   "language": "python",
   "name": "python3"
  },
  "language_info": {
   "codemirror_mode": {
    "name": "ipython",
    "version": 3
   },
   "file_extension": ".py",
   "mimetype": "text/x-python",
   "name": "python",
   "nbconvert_exporter": "python",
   "pygments_lexer": "ipython3",
   "version": "3.12.6"
  }
 },
 "nbformat": 4,
 "nbformat_minor": 5
}
