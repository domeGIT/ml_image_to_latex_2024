{
 "cells": [
  {
   "cell_type": "code",
   "execution_count": null,
   "id": "d6c331f5",
   "metadata": {},
   "outputs": [],
   "source": [
    "import torch\n",
    "from torch.utils.data import Dataset, DataLoader\n",
    "from torchvision import transforms\n",
    "\n",
    "import matplotlib.pyplot as plt\n",
    "import pandas as pd\n",
    "\n",
    "from PIL import Image, ImageOps\n",
    "import os\n",
    "from itertools import islice # za ucitavanje i-te formule"
   ]
  },
  {
   "cell_type": "markdown",
   "id": "44cc0bf0",
   "metadata": {},
   "source": [
    "fja koja skida bele margine sa slike: `crop_formula`"
   ]
  },
  {
   "cell_type": "code",
   "execution_count": null,
   "id": "4d1a4d03",
   "metadata": {},
   "outputs": [],
   "source": [
    "def crop_formula(img_path):\n",
    "    # open image\n",
    "    img = Image.open(img_path).convert(\"L\")  # grayscale\n",
    "    \n",
    "    # invert (so formula is white on black, makes bbox detection easier)\n",
    "    inverted = ImageOps.invert(img)\n",
    "    \n",
    "    # get bounding box of non-background pixels\n",
    "    bbox = inverted.getbbox()\n",
    "    \n",
    "    if bbox:\n",
    "        cropped = img.crop(bbox)\n",
    "        return cropped\n",
    "    else:\n",
    "        return img  # if bbox is None, return original"
   ]
  },
  {
   "cell_type": "code",
   "execution_count": null,
   "id": "123f05dc",
   "metadata": {},
   "outputs": [
    {
     "name": "stdout",
     "output_type": "stream",
     "text": [
      "(0, '60ee748793')\n"
     ]
    },
    {
     "name": "stderr",
     "output_type": "stream",
     "text": [
      "d:\\tiksi\\EDUCATION\\5R\\ml_image_to_latex_2024\\.venv\\Lib\\site-packages\\PIL\\Image.py:1047: UserWarning: Palette images with Transparency expressed in bytes should be converted to RGBA images\n",
      "  warnings.warn(\n"
     ]
    }
   ],
   "source": [
    "# Open and read the file\n",
    "with open(\"data/im2latex_train.lst\", \"r\") as f:\n",
    "    line = f.readline()\n",
    "    f_id, image_name, _ = line.strip().split()\n",
    "    formula_id = int(f_id) - 1\n",
    "\n",
    "\n",
    "\n",
    "    \n",
    "    # Print as a pair (tuple-like)\n",
    "    print((formula_id, image_name))\n",
    "\n",
    "    im_path = os.path.join(\"data\", os.path.join(\"formula_images\", f'{image_name}.png')) \n",
    "    img = crop_formula(im_path)\n",
    "    img.show()"
   ]
  }
 ],
 "metadata": {
  "kernelspec": {
   "display_name": ".venv",
   "language": "python",
   "name": "python3"
  },
  "language_info": {
   "codemirror_mode": {
    "name": "ipython",
    "version": 3
   },
   "file_extension": ".py",
   "mimetype": "text/x-python",
   "name": "python",
   "nbconvert_exporter": "python",
   "pygments_lexer": "ipython3",
   "version": "3.12.6"
  }
 },
 "nbformat": 4,
 "nbformat_minor": 5
}
