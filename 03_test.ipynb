{
  "cells": [
    {
      "cell_type": "code",
      "execution_count": null,
      "id": "d453c4f9",
      "metadata": {
        "id": "d453c4f9"
      },
      "outputs": [],
      "source": [
        "!git clone https://github.com/domeGIT/ml_image_to_latex_2024"
      ]
    },
    {
      "cell_type": "code",
      "source": [
        "%env PYTORCH_CUDA_ALLOC_CONF=expandable_segments:True"
      ],
      "metadata": {
        "id": "PhNYMt4cYGzV"
      },
      "id": "PhNYMt4cYGzV",
      "execution_count": null,
      "outputs": []
    },
    {
      "cell_type": "code",
      "source": [
        "import torch\n",
        "from torch import nn\n",
        "from torch.utils.data import DataLoader\n",
        "import torchvision\n",
        "import torchvision.transforms.functional as TF\n",
        "from torchvision import transforms\n",
        "\n",
        "from torch.cuda.amp import autocast, GradScaler\n",
        "from nltk.translate.bleu_score import corpus_bleu\n",
        "\n",
        "import pandas as pd\n",
        "import json\n",
        "import os\n",
        "import shutil # potrebno za google colab\n",
        "\n",
        "from ml_image_to_latex_2024.image2latex import Text, LatexDataset, Image2LatexModel, exact_match, collate_fn, get_device, bind_gpu\n",
        "from ml_image_to_latex_2024.image2latex import ConvEncoder, Decoder, Attention"
      ],
      "metadata": {
        "id": "l3hMf6PFYK5e"
      },
      "id": "l3hMf6PFYK5e",
      "execution_count": null,
      "outputs": []
    },
    {
      "cell_type": "code",
      "source": [
        "# raspakivanje data.tar u /content/data.tar\n",
        "dst = \"/content/data\"\n",
        "\n",
        "if os.path.exists(dst):\n",
        "     shutil.rmtree(dst)\n",
        "\n",
        "!cp /content/ml_image_to_latex_2024/data.tar /content/\n",
        "!tar -xf /content/data.tar -C /content"
      ],
      "metadata": {
        "id": "fHtARNS8gIEF"
      },
      "id": "fHtARNS8gIEF",
      "execution_count": null,
      "outputs": []
    },
    {
      "cell_type": "markdown",
      "source": [
        "Priprema log fajla za čuvanje rezultata tessta"
      ],
      "metadata": {
        "id": "LdN5O5L1hgpu"
      },
      "id": "LdN5O5L1hgpu"
    },
    {
      "cell_type": "code",
      "source": [
        "# MOUNTOVANJE DRAJVA\n",
        "from google.colab import drive\n",
        "drive.mount('/content/drive')"
      ],
      "metadata": {
        "id": "WIA4FQ3KhTGs"
      },
      "id": "WIA4FQ3KhTGs",
      "execution_count": null,
      "outputs": []
    },
    {
      "cell_type": "code",
      "source": [
        "# uvođenje log fajla\n",
        "os.makedirs(\"/content/drive/My Drive/im2latex/\", exist_ok=True)\n",
        "\n",
        "log_file = \"/content/drive/My Drive/im2latex/test_log.json\""
      ],
      "metadata": {
        "id": "GUvPMRUQezSP"
      },
      "id": "GUvPMRUQezSP",
      "execution_count": null,
      "outputs": []
    },
    {
      "cell_type": "markdown",
      "source": [
        "Uvođenje objekata i definisanje parametara potrebnih za test"
      ],
      "metadata": {
        "id": "tSz4-wDvh488"
      },
      "id": "tSz4-wDvh488"
    },
    {
      "cell_type": "code",
      "source": [
        "# konfig/parametri\n",
        "BATCH_SIZE = 16\n",
        "WORKERS = 4\n",
        "MAX_LENGTH = 150"
      ],
      "metadata": {
        "id": "SyhDByEUcLqE"
      },
      "id": "SyhDByEUcLqE",
      "execution_count": null,
      "outputs": []
    },
    {
      "cell_type": "code",
      "source": [
        "device = get_device()"
      ],
      "metadata": {
        "id": "ND2UOxdtZlzF"
      },
      "id": "ND2UOxdtZlzF",
      "execution_count": null,
      "outputs": []
    },
    {
      "cell_type": "code",
      "source": [
        "# kriterijum za loss\n",
        "criterion = torch.nn.CrossEntropyLoss().to(device)"
      ],
      "metadata": {
        "id": "cATSoj3mecK8"
      },
      "id": "cATSoj3mecK8",
      "execution_count": null,
      "outputs": []
    },
    {
      "cell_type": "code",
      "source": [
        "# Sa obzirom na to gde sve koristimo transform funkciju, bolje da smo je uključili u sam model\n",
        "# ipak, vreme izrade projekta je ograničeno, neka je za sad ovde\n",
        "transform = transforms.Compose([\n",
        "    transforms.Resize(128),\n",
        "    transforms.ToTensor()\n",
        "])\n",
        "\n",
        "text_processor = Text()\n",
        "\n",
        "test_dataset = LatexDataset('/content/data/im2latex_train.csv', transform=transform)\n",
        "test_loader = DataLoader(\n",
        "    test_dataset,\n",
        "    batch_size=BATCH_SIZE,\n",
        "    shuffle=False,  # usually keep validation deterministic\n",
        "    num_workers=WORKERS,\n",
        "    collate_fn=lambda batch: collate_fn(batch, text_processor)\n",
        ")"
      ],
      "metadata": {
        "id": "T9nExFSQbb61"
      },
      "id": "T9nExFSQbb61",
      "execution_count": null,
      "outputs": []
    },
    {
      "cell_type": "markdown",
      "source": [
        "učitajmo prethodno sačuvani model:"
      ],
      "metadata": {
        "id": "EQMU6o3weApJ"
      },
      "id": "EQMU6o3weApJ"
    },
    {
      "cell_type": "code",
      "source": [
        "model = torch.load(\"/content/ml_image_to_latex_2024/saved_models/model9.pt\", map_location=device, weights_only=False)\n",
        "model.eval()"
      ],
      "metadata": {
        "id": "a-F7fvKwd_yk"
      },
      "id": "a-F7fvKwd_yk",
      "execution_count": null,
      "outputs": []
    },
    {
      "cell_type": "code",
      "source": [
        "def test(model, test_loader, text_processor, criterion=None, log_file=None):\n",
        "    model.eval()\n",
        "    test_loss = 0.0\n",
        "    test_bleu = 0.0\n",
        "    test_em = 0.0\n",
        "\n",
        "    with torch.no_grad():\n",
        "        for batch in test_loader:\n",
        "            images, formulas, formula_len = bind_gpu(batch)\n",
        "            formulas_in = formulas[:, :-1]\n",
        "            formulas_out = formulas[:, 1:]\n",
        "\n",
        "            # izračunajmo loss\n",
        "            with autocast():\n",
        "                outputs = model(images, formulas_in, formula_len)\n",
        "                loss = criterion(outputs.reshape(-1, outputs.shape[-1]),\n",
        "                                     formulas_out.reshape(-1))\n",
        "            test_loss += loss.item()\n",
        "\n",
        "            # generiši predikcije\n",
        "            predicts = model.decode_greedy_batch(images, max_length=MAX_LENGTH)\n",
        "            truths = [formula.tolist() for formula in formulas]\n",
        "\n",
        "            predict_strings = [text_processor.tokenize(text_processor.int2text(p)) for p in predicts]\n",
        "            truth_strings = [text_processor.tokenize(text_processor.int2text(t)) for t in truths]\n",
        "\n",
        "            bleu4 = corpus_bleu([[t] for t in truth_strings], predict_strings)\n",
        "            em = exact_match(predict_strings, truth_strings)\n",
        "            print(bleu4)\n",
        "            print(em)\n",
        "\n",
        "            test_bleu += bleu4\n",
        "            test_em += em\n",
        "\n",
        "    avg_test_loss = test_loss / len(test_loader)\n",
        "    avg_test_bleu = test_bleu / len(test_loader)\n",
        "    avg_test_em = test_em / len(test_loader)\n",
        "\n",
        "    results = {\n",
        "        \"test_loss\": float(avg_test_loss) if avg_test_loss is not None else None,\n",
        "        \"bleu4\": float(avg_test_bleu),\n",
        "        \"em\": float(avg_test_em)\n",
        "    }\n",
        "\n",
        "    if log_file is not None:\n",
        "        with open(log_file, \"a\") as file:\n",
        "            file.write(json.dumps(results) + \"\\n\")\n",
        "\n",
        "    print(f\"Test BLEU4: {avg_test_bleu:.4f}, EM: {avg_test_em:.4f}\"\n",
        "          + (f\", Loss: {avg_test_loss:.4f}\" if avg_test_loss is not None else \"\"))\n",
        "\n",
        "    return results"
      ],
      "metadata": {
        "id": "F2pmruTdYMos"
      },
      "id": "F2pmruTdYMos",
      "execution_count": null,
      "outputs": []
    },
    {
      "cell_type": "code",
      "source": [
        "print(test(model, test_loader, text_processor, criterion, log_file))"
      ],
      "metadata": {
        "id": "_ohCedKdclgT"
      },
      "id": "_ohCedKdclgT",
      "execution_count": null,
      "outputs": []
    }
  ],
  "metadata": {
    "kernelspec": {
      "display_name": "Python 3",
      "name": "python3"
    },
    "language_info": {
      "name": "python",
      "version": "3.13.7"
    },
    "colab": {
      "provenance": [],
      "gpuType": "A100"
    },
    "accelerator": "GPU"
  },
  "nbformat": 4,
  "nbformat_minor": 5
}